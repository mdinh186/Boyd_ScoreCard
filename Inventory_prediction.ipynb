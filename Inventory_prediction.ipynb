{
 "cells": [
  {
   "cell_type": "code",
   "execution_count": 55,
   "metadata": {
    "collapsed": false
   },
   "outputs": [],
   "source": [
    "from pandas import DataFrame, Series\n",
    "import numpy as np\n",
    "import pandas as pd\n",
    "import matplotlib.pyplot as plt\n",
    "import statsmodels.api as sm\n",
    "from sklearn.ensemble import RandomForestRegressor\n",
    "from sklearn.cross_validation import train_test_split\n"
   ]
  },
  {
   "cell_type": "code",
   "execution_count": 56,
   "metadata": {
    "collapsed": false
   },
   "outputs": [
    {
     "data": {
      "text/plain": [
       "0.66084380032206613"
      ]
     },
     "execution_count": 56,
     "metadata": {},
     "output_type": "execute_result"
    }
   ],
   "source": [
    "inventory = pd.read_csv(\"inventory_order.csv\")\n",
    "inventory['month'] = pd.DatetimeIndex(inventory['Purchase_Date']).month\n",
    "inventory['day'] = pd.DatetimeIndex(inventory['Purchase_Date']).day \n",
    "inventory = inventory.drop(['Purchase_Date'], axis =1)\n",
    "inventory_only = pd.get_dummies(inventory,columns=['MatID', 'Supplier ID'],drop_first=True)\n",
    "#splitdata\n",
    "local_train, local_test = train_test_split(inventory_only,test_size=0.2,random_state=123)\n",
    "local_train.shape\n",
    "local_test.shape\n",
    "local_train_y = local_train[\"Unit Cost\"]\n",
    "local_train_x = local_train.drop([\"Unit Cost\"],axis=1)\n",
    "local_test_y = local_test[\"Unit Cost\"]\n",
    "local_test_x = local_test.drop(\"Unit Cost\",axis=1)\n",
    "#build model\n",
    "clf = RandomForestRegressor(n_estimators=230)\n",
    "clf.fit(local_train_x,local_train_y)\n",
    "preds = clf.predict(local_test_x)\n",
    "#Mean Absolute error \n",
    "sum(abs(local_test_y.values - preds)) / len(preds)"
   ]
  },
  {
   "cell_type": "code",
   "execution_count": 57,
   "metadata": {
    "collapsed": false
   },
   "outputs": [],
   "source": [
    "#visualization:\n",
    "import pydotplus\n",
    "from sklearn import tree\n",
    "from IPython.core.display import Image\n",
    "\n",
    "clf = tree.DecisionTreeRegressor()\n",
    "clf = clf.fit(local_test_x, local_test_y)\n",
    "dot_data = tree.export_graphviz(clf,out_file='treevisual.dot')\n",
    "import pydotplus\n",
    "import os\n",
    "dot_data1 = tree.export_graphviz(clf, out_file=None)\n",
    "graph = pydotplus.graph_from_dot_data(dot_data1)\n",
    "image = graph.write_png(\"inventory.png\")"
   ]
  },
  {
   "cell_type": "code",
   "execution_count": null,
   "metadata": {
    "collapsed": true
   },
   "outputs": [],
   "source": []
  }
 ],
 "metadata": {
  "anaconda-cloud": {},
  "kernelspec": {
   "display_name": "Python [default]",
   "language": "python",
   "name": "python3"
  },
  "language_info": {
   "codemirror_mode": {
    "name": "ipython",
    "version": 3
   },
   "file_extension": ".py",
   "mimetype": "text/x-python",
   "name": "python",
   "nbconvert_exporter": "python",
   "pygments_lexer": "ipython3",
   "version": "3.5.2"
  }
 },
 "nbformat": 4,
 "nbformat_minor": 0
}
